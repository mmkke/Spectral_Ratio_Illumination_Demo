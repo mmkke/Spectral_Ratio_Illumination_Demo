{
 "cells": [
  {
   "cell_type": "code",
   "execution_count": 1,
   "id": "12b8a107",
   "metadata": {},
   "outputs": [
    {
     "data": {
      "text/plain": [
       "True"
      ]
     },
     "execution_count": 1,
     "metadata": {},
     "output_type": "execute_result"
    }
   ],
   "source": [
    "import cv2\n",
    "import sys\n",
    "import os\n",
    "current_dir = os.getcwd()\n",
    "parent_dir = os.path.dirname(current_dir)\n",
    "sys.path.append(str(parent_dir))\n",
    "\n",
    "tif = cv2.imread(\"example_images/images/original.tif\", cv2.IMREAD_UNCHANGED)\n",
    "cv2.imwrite(\"example_original.png\", tif)\n"
   ]
  },
  {
   "cell_type": "code",
   "execution_count": 1,
   "id": "da55a43f",
   "metadata": {},
   "outputs": [],
   "source": [
    "import cv2\n",
    "import numpy as np\n",
    "import logging\n",
    "\n",
    "class imgProcessor:\n",
    "    def __init__(self, image_path: str, sr_map_path: None):\n",
    "        self.logger = logging.getLogger(self.__class__.__name__)\n",
    "\n",
    "        # Get image and map\n",
    "        self.image_path = image_path\n",
    "        self.image = cv2.imread(image_path, cv2.IMREAD_UNCHANGED)\n",
    "        if self.image is None:\n",
    "            raise ValueError(f\"Failed to load image from {image_path}\")\n",
    "        self.sr_map = cv2.imread(sr_map_path, cv2.IMREAD_UNCHANGED)\n",
    "        if self.sr_map is None:\n",
    "            raise ValueError(f\"Failed to load map from {sr_map_path}\")\n",
    "\n",
    "        # Attributes\n",
    "        self.roi = None  # (x, y, w, h)\n",
    "        self.roi_image = None\n",
    "\n",
    "        self.logger.info(f\"Initialized {self.__class__.__name__}\")\n",
    "        self.logger.info(f\"Image loaded: {self.image.shape}\")\n",
    "        self.logger.info(f\"Map loaded: {self.sr_map.shape}\")\n",
    "\n",
    "    \n",
    "    def convert_img_to_log_space(self, linear_img) -> np.ndarray:\n",
    "        \"\"\"\n",
    "        Converts a 16-bit linear image to log space, setting linear 0 values to 0 in log space.\n",
    "\n",
    "        Parameters:\n",
    "        -----------\n",
    "        linear_img : np.array\n",
    "            Input 16-bit image as a NumPy array.\n",
    "\n",
    "        Returns:\n",
    "        --------\n",
    "        log_img : np.array\n",
    "            Log-transformed image with 0 values preserved.\n",
    "        \"\"\"\n",
    "\n",
    "        log_img = np.zeros_like(linear_img, dtype = np.float32)\n",
    "        log_img[linear_img != 0] = np.log(linear_img[linear_img != 0])\n",
    "        assert np.min(log_img) >= 0 and np.max(log_img) <= 11.1\n",
    "\n",
    "        return log_img\n",
    "\n",
    "    def log_to_linear(self, log_img) -> None:\n",
    "        \"\"\"\n",
    "        Converts log transofrmed image back to linear space in 16 bits.\n",
    "\n",
    "        Parameters:\n",
    "        -----------\n",
    "        log_img : np.array\n",
    "            Log-transformed image with values between 0 and 11.1.\n",
    "\n",
    "        Returns:\n",
    "        --------\n",
    "        linear_img : np.array\n",
    "            Visualization-ready 8-bit image.\n",
    "        \"\"\"\n",
    "\n",
    "        linear_img = np.exp(self.img_chroma)\n",
    "        return linear_img\n",
    "    \n",
    "    def convert_16bit_to_8bit(self, img) -> None:\n",
    "        \"\"\"\n",
    "        Converts a 16-bit image to 8-bit by normalizing pixel values.\n",
    "\n",
    "        Parameters:\n",
    "        -----------\n",
    "        img : np.array\n",
    "            Input image array in 16-bit format (dtype: np.uint16).\n",
    "        \n",
    "        Returns:\n",
    "        --------\n",
    "        img_8bit : np.array\n",
    "            Output image array converted to 8-bit (dtype: np.uint8).\n",
    "        \"\"\"\n",
    "        img_normalized = np.clip(img / 255, 0, 255)\n",
    "        img_8bit = np.uint8(img_normalized)\n",
    "        return img_8bit\n",
    "\n",
    "    def show_image(self, use_roi=False):\n",
    "        display_img = self.roi_image if (use_roi and self.roi_image is not None) else self.image\n",
    "        window_name = \"ROI Image\" if use_roi else \"Full Image\"\n",
    "        cv2.imshow(window_name, display_img)\n",
    "        cv2.waitKey(0)\n",
    "        cv2.destroyAllWindows()\n",
    "    \n",
    "    def select_roi(self):\n",
    "        self.logger.info(\"[srLight] Select ROI using mouse...\")\n",
    "        roi = cv2.selectROI(\"Select ROI\", self.image, showCrosshair=True, fromCenter=False)\n",
    "        cv2.destroyWindow(\"Select ROI\")\n",
    "\n",
    "        if roi == (0, 0, 0, 0):\n",
    "            self.logger.info(\"[srLight] No ROI selected.\")\n",
    "            return\n",
    "\n",
    "        self.roi = roi\n",
    "        x, y, w, h = roi\n",
    "        self.roi_image = self.image[y:y+h, x:x+w]\n",
    "        self.logger.info(f\"[srLight] ROI selected: x={x}, y={y}, w={w}, h={h}\")\n",
    "    \n",
    "    def shift_pixels_along_isd(image_log: np.ndarray, isd_map: np.ndarray, roi: tuple, distance: float) -> np.ndarray:\n",
    "        \"\"\"\n",
    "        Shift pixels in log-RGB space along their ISD vector by a given distance within the ROI.\n",
    "        \n",
    "        Args:\n",
    "            image_log (np.ndarray): Log-RGB image of shape (H, W, 3)\n",
    "            isd_map (np.ndarray): ISD map of shape (H, W, 3), should be unit vectors\n",
    "            roi (tuple): (x, y, w, h) rectangle specifying the ROI\n",
    "            distance (float): Distance to shift pixels along ISD vector\n",
    "\n",
    "        Returns:\n",
    "            np.ndarray: Modified log-RGB image with ROI pixels shifted\n",
    "        \"\"\"\n",
    "        shifted_image = image_log.copy()\n",
    "        x, y, w, h = roi\n",
    "\n",
    "        roi_pixels = image_log[y:y+h, x:x+w]\n",
    "        roi_isd = isd_map[y:y+h, x:x+w]\n",
    "\n",
    "        # Shift each pixel in the ROI\n",
    "        shifted_roi = roi_pixels + distance * roi_isd\n",
    "\n",
    "        # Replace back into image\n",
    "        shifted_image[y:y+h, x:x+w] = shifted_roi\n",
    "        return shifted_image"
   ]
  },
  {
   "cell_type": "code",
   "execution_count": null,
   "id": "f28cc59a",
   "metadata": {},
   "outputs": [],
   "source": []
  },
  {
   "cell_type": "code",
   "execution_count": 9,
   "id": "f8660062",
   "metadata": {},
   "outputs": [
    {
     "name": "stdout",
     "output_type": "stream",
     "text": [
      "Original: float32 28359.771 44193.09\n",
      "OpenCV: float32 28359.771 44193.09\n",
      "Mean absolute difference (uint16 range scaled): 0.0\n"
     ]
    }
   ],
   "source": [
    "import tifffile\n",
    "import cv2\n",
    "import numpy as np\n",
    "\n",
    "# Load the original float32 ISD map\n",
    "sr_map_path = \"/Users/mikey/Library/Mobile Documents/com~apple~CloudDocs/Code/code_projects/isd-annotator/annotations/images_for_testing/folder_6/isd_maps/maddineni_poojit_045_isd.tiff\"\n",
    "\n",
    "isd_float = tifffile.imread(sr_map_path)\n",
    "print(\"Original:\", isd_float.dtype, isd_float.min(), isd_float.max())\n",
    "\n",
    "# Load with OpenCV (should fail silently or convert to uint16)\n",
    "isd_cv = cv2.imread(sr_map_path, cv2.IMREAD_UNCHANGED)\n",
    "isd_cv = cv2.cvtColor(isd_cv, cv2.COLOR_BGR2RGB)\n",
    "\n",
    "print(\"OpenCV:\", isd_cv.dtype, isd_cv.min(), isd_cv.max())\n",
    "\n",
    "\n",
    "diff = np.abs(isd_cv - isd_float).mean()\n",
    "print(\"Mean absolute difference (uint16 range scaled):\", diff)"
   ]
  },
  {
   "cell_type": "code",
   "execution_count": 10,
   "id": "d08376b7",
   "metadata": {},
   "outputs": [
    {
     "name": "stdout",
     "output_type": "stream",
     "text": [
      "True\n",
      "True\n"
     ]
    }
   ],
   "source": [
    "import torch\n",
    "print(torch.backends.mps.is_available())     # True if MPS is available\n",
    "print(torch.backends.mps.is_built())         # True if PyTorch was built with MPS"
   ]
  }
 ],
 "metadata": {
  "kernelspec": {
   "display_name": "annotator_env",
   "language": "python",
   "name": "python3"
  },
  "language_info": {
   "codemirror_mode": {
    "name": "ipython",
    "version": 3
   },
   "file_extension": ".py",
   "mimetype": "text/x-python",
   "name": "python",
   "nbconvert_exporter": "python",
   "pygments_lexer": "ipython3",
   "version": "3.13.1"
  }
 },
 "nbformat": 4,
 "nbformat_minor": 5
}
